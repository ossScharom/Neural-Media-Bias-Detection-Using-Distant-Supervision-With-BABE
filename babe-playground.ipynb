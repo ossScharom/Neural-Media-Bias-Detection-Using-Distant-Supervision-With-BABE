{
 "cells": [
  {
   "cell_type": "code",
   "execution_count": 1,
   "metadata": {},
   "outputs": [],
   "source": [
    "import pandas as pd\n",
    "import ast\n",
    "import numpy as np"
   ]
  },
  {
   "cell_type": "code",
   "execution_count": 2,
   "metadata": {},
   "outputs": [],
   "source": [
    "SG2 = pd.read_excel(\"data/final_labels_SG2.xlsx\")\n",
    "SG2['biased_words'] = SG2.biased_words.apply(ast.literal_eval)\n"
   ]
  },
  {
   "cell_type": "code",
   "execution_count": 22,
   "metadata": {},
   "outputs": [],
   "source": [
    "SG2['amount_biased_words'] = SG2['biased_words'].apply(lambda x: len(x))"
   ]
  },
  {
   "cell_type": "code",
   "execution_count": 18,
   "metadata": {},
   "outputs": [
    {
     "data": {
      "text/plain": [
       "(3674, 8)"
      ]
     },
     "execution_count": 18,
     "metadata": {},
     "output_type": "execute_result"
    }
   ],
   "source": [
    "SG2.shape"
   ]
  },
  {
   "cell_type": "code",
   "execution_count": 19,
   "metadata": {},
   "outputs": [],
   "source": [
    "grouped_by_text = SG2.groupby('text').describe()"
   ]
  },
  {
   "cell_type": "code",
   "execution_count": 6,
   "metadata": {},
   "outputs": [
    {
     "data": {
      "text/plain": [
       "array(['Fox News', 'Alternet', 'MSNBC', 'Breitbart', 'Federalist',\n",
       "       'Reuters', 'USA Today', 'Daily Beast', 'HuffPost', 'Daily Stormer',\n",
       "       'New York Times'], dtype=object)"
      ]
     },
     "execution_count": 6,
     "metadata": {},
     "output_type": "execute_result"
    }
   ],
   "source": [
    "SG2['outlet'].unique()"
   ]
  },
  {
   "cell_type": "code",
   "execution_count": 79,
   "metadata": {},
   "outputs": [
    {
     "name": "stdout",
     "output_type": "stream",
     "text": [
      "Percentage of biased sentences that have no biased words:  9.83 %\n",
      "Percentage of non-biased sentences that have at least one biased word:  11.65 %\n"
     ]
    },
    {
     "name": "stderr",
     "output_type": "stream",
     "text": [
      "/tmp/ipykernel_69044/3850464529.py:2: UserWarning: Boolean Series key will be reindexed to match DataFrame index.\n",
      "  print('Percentage of biased sentences that have no biased words: ', round(SG2[SG2.label_bias == 'Biased'][SG2.biased_words.str.len() == 0].shape[0] / SG2[SG2.label_bias == 'Biased'].shape[0] * 100,2), '%')\n",
      "/tmp/ipykernel_69044/3850464529.py:3: UserWarning: Boolean Series key will be reindexed to match DataFrame index.\n",
      "  print('Percentage of non-biased sentences that have at least one biased word: ', round(SG2[SG2.label_bias == 'Non-biased'][SG2.biased_words.str.len() > 0].shape[0] / SG2[SG2.label_bias == 'Non-biased'].shape[0] * 100,2), '%')\n"
     ]
    }
   ],
   "source": [
    "pd.set_option('display.max_colwidth', None)\n",
    "print('Percentage of biased sentences that have no biased words: ', round(SG2[SG2.label_bias == 'Biased'][SG2.biased_words.str.len() == 0].shape[0] / SG2[SG2.label_bias == 'Biased'].shape[0] * 100,2), '%')\n",
    "print('Percentage of non-biased sentences that have at least one biased word: ', round(SG2[SG2.label_bias == 'Non-biased'][SG2.biased_words.str.len() > 0].shape[0] / SG2[SG2.label_bias == 'Non-biased'].shape[0] * 100,2), '%')"
   ]
  },
  {
   "cell_type": "code",
   "execution_count": 17,
   "metadata": {},
   "outputs": [
    {
     "data": {
      "text/plain": [
       "<AxesSubplot: xlabel='type'>"
      ]
     },
     "execution_count": 17,
     "metadata": {},
     "output_type": "execute_result"
    },
    {
     "data": {
      "image/png": "[encoded data removed]",
      "text/plain": [
       "<Figure size 640x480 with 1 Axes>"
      ]
     },
     "metadata": {},
     "output_type": "display_data"
    }
   ],
   "source": [
    "SG2.groupby('type').count().plot.bar()"
   ]
  },
  {
   "cell_type": "code",
   "execution_count": 80,
   "metadata": {},
   "outputs": [
    {
     "name": "stderr",
     "output_type": "stream",
     "text": [
      "/tmp/ipykernel_69044/2338409470.py:1: UserWarning: Boolean Series key will be reindexed to match DataFrame index.\n",
      "  SG2[SG2.label_bias == 'Non-biased'][SG2.biased_words.str.len() > 0][['text', 'biased_words']]\n"
     ]
    },
    {
     "data": {
      "text/html": [
       "<div>\n",
       "<style scoped>\n",
       "    .dataframe tbody tr th:only-of-type {\n",
       "        vertical-align: middle;\n",
       "    }\n",
       "\n",
       "    .dataframe tbody tr th {\n",
       "        vertical-align: top;\n",
       "    }\n",
       "\n",
       "    .dataframe thead th {\n",
       "        text-align: right;\n",
       "    }\n",
       "</style>\n",
       "<table border=\"1\" class=\"dataframe\">\n",
       "  <thead>\n",
       "    <tr style=\"text-align: right;\">\n",
       "      <th></th>\n",
       "      <th>text</th>\n",
       "      <th>biased_words</th>\n",
       "    </tr>\n",
       "  </thead>\n",
       "  <tbody>\n",
       "    <tr>\n",
       "      <th>11</th>\n",
       "      <td>‘The most progressive president since FDR’: Biden's policy proposals reveal a pleasant surprise</td>\n",
       "      <td>[pleasant]</td>\n",
       "    </tr>\n",
       "    <tr>\n",
       "      <th>18</th>\n",
       "      <td>“The goal is to send a message of peace,” the 22-year-old claimed. He insisted that the original idea was to show a man stealing inexpensive goods and showing a similar scenario to George Floyd’s death, with a police officer on the thief’s neck.</td>\n",
       "      <td>[claimed]</td>\n",
       "    </tr>\n",
       "    <tr>\n",
       "      <th>25</th>\n",
       "      <td>A 60-foot chunk of the Ocean Cleanup device, deployed with much fanfare in the Great Pacific Garbage Patch in October, has broken off and the entire plastic collection system will now be towed back to port for an overhaul and upgrade.</td>\n",
       "      <td>[fanfare]</td>\n",
       "    </tr>\n",
       "    <tr>\n",
       "      <th>49</th>\n",
       "      <td>A federal judge dismissed the United States women’s soccer team’s bid for equal pay on Friday, rejecting claims the players had been underpaid in a crushing defeat for the reigning world champions.</td>\n",
       "      <td>[crushing]</td>\n",
       "    </tr>\n",
       "    <tr>\n",
       "      <th>56</th>\n",
       "      <td>A former Indonesian police brigadier has filed a complaint to the human rights commission claiming he was fired for being gay, his lawyers said on Monday, in what could be a test case on discrimination in the Southeast Asian country.</td>\n",
       "      <td>[claiming]</td>\n",
       "    </tr>\n",
       "    <tr>\n",
       "      <th>...</th>\n",
       "      <td>...</td>\n",
       "      <td>...</td>\n",
       "    </tr>\n",
       "    <tr>\n",
       "      <th>3558</th>\n",
       "      <td>While Democrats were persistent in their questioning, the hearing retained a respectful tone and Barrett remained even-tempered while nimbly sidestepping questions on her views on abortion, LGBT rights, gun control and voting rights.</td>\n",
       "      <td>[nimbly]</td>\n",
       "    </tr>\n",
       "    <tr>\n",
       "      <th>3613</th>\n",
       "      <td>Will the American people follow the commands of Donald Trump's coronavirus death cult?</td>\n",
       "      <td>[death, cult]</td>\n",
       "    </tr>\n",
       "    <tr>\n",
       "      <th>3618</th>\n",
       "      <td>With Democrats fuming over Trump's push for a border wall amid a still-unresolved funding standoff, those guest lists signal the president could face a tough crowd.</td>\n",
       "      <td>[fuming]</td>\n",
       "    </tr>\n",
       "    <tr>\n",
       "      <th>3655</th>\n",
       "      <td>Yet it far better applies to unelected career bureaucrats’ use of their power to prosecute their political enemies, which comprises the heart of the “resistance” to Republican rule that will endure so long as bureaucracy has enough power to challenged elected branches of government. This bureacracy weaponization was also a hallmark of the Obama presidency, with — ironies of ironies — perhaps the biggest evidences again coming from the Department of Justice under attorneys general Eric Holder and Loretta Lynch.</td>\n",
       "      <td>[ironies]</td>\n",
       "    </tr>\n",
       "    <tr>\n",
       "      <th>3657</th>\n",
       "      <td>Yet Merril Hoge, a former running back for the NFL's Pittsburgh Steelers and Chicago Bears later turned ESPN analyst, has been one of the most outspoken critics against the alarm surrounding CTE studies – putting much of the research down to “science fiction” and “misleading” science far from a factual realm.</td>\n",
       "      <td>[science, fiction]</td>\n",
       "    </tr>\n",
       "  </tbody>\n",
       "</table>\n",
       "<p>217 rows × 2 columns</p>\n",
       "</div>"
      ],
      "text/plain": [
       "                                                                                                                                                                                                                                                                                                                                                                                                                                                                                                                                     text  \\\n",
       "11                                                                                                                                                                                                                                                                                                                                                                                                                                        ‘The most progressive president since FDR’: Biden's policy proposals reveal a pleasant surprise   \n",
       "18                                                                                                                                                                                                                                                                                  “The goal is to send a message of peace,” the 22-year-old claimed. He insisted that the original idea was to show a man stealing inexpensive goods and showing a similar scenario to George Floyd’s death, with a police officer on the thief’s neck.   \n",
       "25                                                                                                                                                                                                                                                                                             A 60-foot chunk of the Ocean Cleanup device, deployed with much fanfare in the Great Pacific Garbage Patch in October, has broken off and the entire plastic collection system will now be towed back to port for an overhaul and upgrade.   \n",
       "49                                                                                                                                                                                                                                                                                                                                  A federal judge dismissed the United States women’s soccer team’s bid for equal pay on Friday, rejecting claims the players had been underpaid in a crushing defeat for the reigning world champions.   \n",
       "56                                                                                                                                                                                                                                                                                              A former Indonesian police brigadier has filed a complaint to the human rights commission claiming he was fired for being gay, his lawyers said on Monday, in what could be a test case on discrimination in the Southeast Asian country.   \n",
       "...                                                                                                                                                                                                                                                                                                                                                                                                                                                                                                                                   ...   \n",
       "3558                                                                                                                                                                                                                                                                                            While Democrats were persistent in their questioning, the hearing retained a respectful tone and Barrett remained even-tempered while nimbly sidestepping questions on her views on abortion, LGBT rights, gun control and voting rights.   \n",
       "3613                                                                                                                                                                                                                                                                                                                                                                                                                                               Will the American people follow the commands of Donald Trump's coronavirus death cult?   \n",
       "3618                                                                                                                                                                                                                                                                                                                                                                 With Democrats fuming over Trump's push for a border wall amid a still-unresolved funding standoff, those guest lists signal the president could face a tough crowd.   \n",
       "3655  Yet it far better applies to unelected career bureaucrats’ use of their power to prosecute their political enemies, which comprises the heart of the “resistance” to Republican rule that will endure so long as bureaucracy has enough power to challenged elected branches of government. This bureacracy weaponization was also a hallmark of the Obama presidency, with — ironies of ironies — perhaps the biggest evidences again coming from the Department of Justice under attorneys general Eric Holder and Loretta Lynch.   \n",
       "3657                                                                                                                                                                                                               Yet Merril Hoge, a former running back for the NFL's Pittsburgh Steelers and Chicago Bears later turned ESPN analyst, has been one of the most outspoken critics against the alarm surrounding CTE studies – putting much of the research down to “science fiction” and “misleading” science far from a factual realm.   \n",
       "\n",
       "            biased_words  \n",
       "11            [pleasant]  \n",
       "18             [claimed]  \n",
       "25             [fanfare]  \n",
       "49            [crushing]  \n",
       "56            [claiming]  \n",
       "...                  ...  \n",
       "3558            [nimbly]  \n",
       "3613       [death, cult]  \n",
       "3618            [fuming]  \n",
       "3655           [ironies]  \n",
       "3657  [science, fiction]  \n",
       "\n",
       "[217 rows x 2 columns]"
      ]
     },
     "execution_count": 80,
     "metadata": {},
     "output_type": "execute_result"
    }
   ],
   "source": [
    "SG2[SG2.label_bias == 'Non-biased'][SG2.biased_words.str.len() > 0][['text', 'biased_words']]"
   ]
  },
  {
   "cell_type": "code",
   "execution_count": 88,
   "metadata": {},
   "outputs": [
    {
     "name": "stderr",
     "output_type": "stream",
     "text": [
      "/tmp/ipykernel_69044/3774788521.py:1: UserWarning: Boolean Series key will be reindexed to match DataFrame index.\n",
      "  SG2[SG2.label_bias == 'Non-biased'][SG2.biased_words.str.len() > 0].groupby('label_opinion')['label_opinion'].count()\n"
     ]
    },
    {
     "data": {
      "text/plain": [
       "label_opinion\n",
       "Entirely factual                         96\n",
       "Expresses writer’s opinion               27\n",
       "No agreement                             27\n",
       "Somewhat factual but also opinionated    67\n",
       "Name: label_opinion, dtype: int64"
      ]
     },
     "execution_count": 88,
     "metadata": {},
     "output_type": "execute_result"
    }
   ],
   "source": [
    "SG2[SG2.label_bias == 'Non-biased'][SG2.biased_words.str.len() > 0].groupby('label_opinion')['label_opinion'].count()"
   ]
  },
  {
   "cell_type": "code",
   "execution_count": 89,
   "metadata": {},
   "outputs": [
    {
     "data": {
      "text/plain": [
       "(3674, 8)"
      ]
     },
     "execution_count": 89,
     "metadata": {},
     "output_type": "execute_result"
    }
   ],
   "source": [
    "SG2.shape"
   ]
  }
 ],
 "metadata": {
  "kernelspec": {
   "display_name": "env",
   "language": "python",
   "name": "python3"
  },
  "language_info": {
   "codemirror_mode": {
    "name": "ipython",
    "version": 3
   },
   "file_extension": ".py",
   "mimetype": "text/x-python",
   "name": "python",
   "nbconvert_exporter": "python",
   "pygments_lexer": "ipython3",
   "version": "3.10.8"
  },
  "orig_nbformat": 4,
  "vscode": {
   "interpreter": {
    "hash": "a6d28ff6a6273f8f2f643948347b58f97cfc3cbef6ad0581b2f9adbdc8d31ce4"
   }
  }
 },
 "nbformat": 4,
 "nbformat_minor": 2
}
